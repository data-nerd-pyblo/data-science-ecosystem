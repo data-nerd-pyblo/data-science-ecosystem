{
 "cells": [
  {
   "cell_type": "markdown",
   "id": "e1712932",
   "metadata": {},
   "source": [
    "# H1 Data Science Tools and Ecosystem"
   ]
  },
  {
   "cell_type": "markdown",
   "id": "b8c54a3d",
   "metadata": {},
   "source": [
    "In this notebook, Data Science Tools and Ecosystem are summarized"
   ]
  },
  {
   "cell_type": "markdown",
   "id": "90e687e2",
   "metadata": {},
   "source": [
    "**Objectives**"
   ]
  },
  {
   "cell_type": "markdown",
   "id": "b5a75e1e",
   "metadata": {},
   "source": [
    "- Learn popular languages for Data Science\n",
    "- Learn the most commonly used libraries by Data Scientists\n",
    "- Learn the most commonly used Data Science Tools\n",
    "- Learn to do basic math operations in Python"
   ]
  },
  {
   "cell_type": "markdown",
   "id": "73b07a07",
   "metadata": {},
   "source": [
    "Some of the popular languages that Data Scientists use are: "
   ]
  },
  {
   "cell_type": "markdown",
   "id": "87c7837a",
   "metadata": {},
   "source": [
    "1. Python\n",
    "2. R\n",
    "3. Julia"
   ]
  },
  {
   "cell_type": "markdown",
   "id": "39cda65f",
   "metadata": {},
   "source": [
    "Some of the commonly used libraries used by Data Scientist include:"
   ]
  },
  {
   "cell_type": "markdown",
   "id": "944bd2ea",
   "metadata": {},
   "source": [
    "1. Numpy\n",
    "2. Pandas\n",
    "3. Matplotlib\n",
    "4. Seaborn\n",
    "5. Scikit Learn\n",
    "6. Keras"
   ]
  },
  {
   "cell_type": "markdown",
   "id": "f87a9c79",
   "metadata": {},
   "source": [
    "Some of the Development Environment includes:"
   ]
  },
  {
   "cell_type": "markdown",
   "id": "535b7790",
   "metadata": {},
   "source": [
    "| Data Science Tools  |\n",
    "| ------------------  |\n",
    "| Anaconda            |\n",
    "| R Studio            |\n",
    "| Visual Studio Code  |"
   ]
  },
  {
   "cell_type": "markdown",
   "id": "6048113d",
   "metadata": {},
   "source": [
    "### H3 Below are a few examples of evaluating arithmetic expressions in Python:"
   ]
  },
  {
   "cell_type": "markdown",
   "id": "77b5380e",
   "metadata": {},
   "source": [
    "A simple arithmetic expression to multiply then add integers "
   ]
  },
  {
   "cell_type": "code",
   "execution_count": 1,
   "id": "20017bce",
   "metadata": {},
   "outputs": [
    {
     "data": {
      "text/plain": [
       "17"
      ]
     },
     "execution_count": 1,
     "metadata": {},
     "output_type": "execute_result"
    }
   ],
   "source": [
    "(3*4)+5"
   ]
  },
  {
   "cell_type": "markdown",
   "id": "9b2d42ab",
   "metadata": {},
   "source": [
    "This code will convert 200 minutes to hours by diving by 60"
   ]
  },
  {
   "cell_type": "code",
   "execution_count": 3,
   "id": "f2192d50",
   "metadata": {},
   "outputs": [
    {
     "data": {
      "text/plain": [
       "3.3333333333333335"
      ]
     },
     "execution_count": 3,
     "metadata": {},
     "output_type": "execute_result"
    }
   ],
   "source": [
    "200/60"
   ]
  },
  {
   "cell_type": "markdown",
   "id": "d422ef94",
   "metadata": {},
   "source": [
    "## H2 Author"
   ]
  },
  {
   "cell_type": "markdown",
   "id": "e1b49f38",
   "metadata": {},
   "source": [
    "Pablo Torres"
   ]
  }
 ],
 "metadata": {
  "kernelspec": {
   "display_name": "Python 3 (ipykernel)",
   "language": "python",
   "name": "python3"
  },
  "language_info": {
   "codemirror_mode": {
    "name": "ipython",
    "version": 3
   },
   "file_extension": ".py",
   "mimetype": "text/x-python",
   "name": "python",
   "nbconvert_exporter": "python",
   "pygments_lexer": "ipython3",
   "version": "3.11.5"
  }
 },
 "nbformat": 4,
 "nbformat_minor": 5
}
